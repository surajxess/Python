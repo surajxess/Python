{
 "cells": [
  {
   "cell_type": "code",
   "execution_count": 3,
   "metadata": {},
   "outputs": [
    {
     "name": "stdout",
     "output_type": "stream",
     "text": [
      "Select any one operation:\n",
      "1. for addition\n",
      "2. for subtraction\n",
      "3. for multiplication\n",
      "4. for division\n",
      "Enter your choice4\n",
      "Enter number 112\n",
      "Enter number 23\n",
      "4.0\n"
     ]
    }
   ],
   "source": [
    "#Addition function\n",
    "def addition (num1, num2):\n",
    "        print (int(num1) + int(num2))\n",
    "\n",
    "#Subtraction function\n",
    "def subtraction (num1, num2):\n",
    "        print (int(num1) - int(num2))\n",
    "\n",
    "#Multiplication function\n",
    "def multiplication (num1, num2):\n",
    "    print (int(num1) * int(num2))\n",
    "\n",
    "#Division function\n",
    "def division(num1, num2):\n",
    "    print (int(num1) / int(num2))\n",
    "    \n",
    "print (\"Select any one operation:\")\n",
    "print (\"1. for addition\")\n",
    "print (\"2. for subtraction\")\n",
    "print (\"3. for multiplication\")\n",
    "print (\"4. for division\")\n",
    "\n",
    "#Input part\n",
    "ch = input(\"Enter your choice\")\n",
    "num1 = input(\"Enter number 1\")\n",
    "num2 = input(\"Enter number 2\")\n",
    "if (ch == '1'):\n",
    "    addition(num1, num2)\n",
    "elif (ch == '2'):\n",
    "    subtraction(num1, num2)\n",
    "elif (ch == '3'):\n",
    "    multiplication(num1, num2)\n",
    "elif (ch == '4'):\n",
    "    division(num1, num2)\n",
    "else:\n",
    "    print(\"invalid choice\")\n",
    "\n",
    "\n"
   ]
  },
  {
   "cell_type": "code",
   "execution_count": null,
   "metadata": {},
   "outputs": [],
   "source": []
  },
  {
   "cell_type": "code",
   "execution_count": null,
   "metadata": {},
   "outputs": [],
   "source": []
  }
 ],
 "metadata": {
  "kernelspec": {
   "display_name": "Python 3",
   "language": "python",
   "name": "python3"
  },
  "language_info": {
   "codemirror_mode": {
    "name": "ipython",
    "version": 3
   },
   "file_extension": ".py",
   "mimetype": "text/x-python",
   "name": "python",
   "nbconvert_exporter": "python",
   "pygments_lexer": "ipython3",
   "version": "3.8.5"
  }
 },
 "nbformat": 4,
 "nbformat_minor": 4
}
