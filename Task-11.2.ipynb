{
 "cells": [
  {
   "cell_type": "markdown",
   "metadata": {},
   "source": [
    "# Task11.2\n",
    "\n",
    "\n"
   ]
  },
  {
   "cell_type": "markdown",
   "metadata": {},
   "source": [
    "Ask 2 numbers from users and store it in num1 and num2\n",
    "Ask user to press 1 for addition,2 for subtraction,3 for multiplication and 4 for division\n",
    "create 4 seperate functions for each operation (i.e. addition,subtraction,multiplication and division)\n",
    "based on number given by user,call that perticular function and print the output"
   ]
  },
  {
   "cell_type": "code",
   "execution_count": 4,
   "metadata": {},
   "outputs": [
    {
     "name": "stdout",
     "output_type": "stream",
     "text": [
      "Select any one operation:\n",
      "1. for addition\n",
      "2. for subtraction\n",
      "3. for multiplication\n",
      "4. for division\n",
      "Enter your choice1\n",
      "Enter number 1: 12\n",
      "Enter number 2: 32\n",
      "44\n"
     ]
    }
   ],
   "source": [
    "#Addition function\n",
    "def addition (num1, num2):\n",
    "        print (int(num1) + int(num2))\n",
    "\n",
    "#Subtraction function\n",
    "def subtraction (num1, num2):\n",
    "        print (int(num1) - int(num2))\n",
    "\n",
    "#Multiplication function\n",
    "def multiplication (num1, num2):\n",
    "    print (int(num1) * int(num2))\n",
    "\n",
    "#Division function\n",
    "def division(num1, num2):\n",
    "    print (int(num1) / int(num2))\n",
    "    \n",
    "print (\"Select any one operation:\")\n",
    "print (\"1. for addition\")\n",
    "print (\"2. for subtraction\")\n",
    "print (\"3. for multiplication\")\n",
    "print (\"4. for division\")\n",
    "\n",
    "#Input part\n",
    "ch = input(\"Enter your choice\")\n",
    "num1 = input(\"Enter number 1: \")\n",
    "num2 = input(\"Enter number 2: \")\n",
    "if (ch == '1'):\n",
    "    addition(num1, num2)\n",
    "elif (ch == '2'):\n",
    "    subtraction(num1, num2)\n",
    "elif (ch == '3'):\n",
    "    multiplication(num1, num2)\n",
    "elif (ch == '4'):\n",
    "    division(num1, num2)\n",
    "else:\n",
    "    print(\"invalid choice\")\n",
    "\n",
    "\n"
   ]
  },
  {
   "cell_type": "code",
   "execution_count": null,
   "metadata": {},
   "outputs": [],
   "source": []
  },
  {
   "cell_type": "code",
   "execution_count": null,
   "metadata": {},
   "outputs": [],
   "source": []
  },
  {
   "cell_type": "code",
   "execution_count": null,
   "metadata": {},
   "outputs": [],
   "source": []
  }
 ],
 "metadata": {
  "kernelspec": {
   "display_name": "Python 3",
   "language": "python",
   "name": "python3"
  },
  "language_info": {
   "codemirror_mode": {
    "name": "ipython",
    "version": 3
   },
   "file_extension": ".py",
   "mimetype": "text/x-python",
   "name": "python",
   "nbconvert_exporter": "python",
   "pygments_lexer": "ipython3",
   "version": "3.8.5"
  }
 },
 "nbformat": 4,
 "nbformat_minor": 4
}
