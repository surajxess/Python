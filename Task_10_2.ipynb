{
  "nbformat": 4,
  "nbformat_minor": 0,
  "metadata": {
    "colab": {
      "name": "Task-10.2.ipynb",
      "provenance": [],
      "authorship_tag": "ABX9TyN8TDpgRx5eyZAWuS79h1Sr",
      "include_colab_link": true
    },
    "kernelspec": {
      "name": "python3",
      "display_name": "Python 3"
    }
  },
  "cells": [
    {
      "cell_type": "markdown",
      "metadata": {
        "id": "view-in-github",
        "colab_type": "text"
      },
      "source": [
        "<a href=\"https://colab.research.google.com/github/surajxess/Python/blob/main/Task_10_2.ipynb\" target=\"_parent\"><img src=\"https://colab.research.google.com/assets/colab-badge.svg\" alt=\"Open In Colab\"/></a>"
      ]
    },
    {
      "cell_type": "code",
      "metadata": {
        "id": "ex7yCqi9KEyf"
      },
      "source": [
        ""
      ],
      "execution_count": null,
      "outputs": []
    },
    {
      "cell_type": "markdown",
      "metadata": {
        "id": "rcGVpSDqKN-d"
      },
      "source": [
        "# Pass Keyword"
      ]
    },
    {
      "cell_type": "markdown",
      "metadata": {
        "id": "BQJDMhE8KvSb"
      },
      "source": [
        "When the pass statement is executed, we avoid getting an error when nothing is executed. It acts as a placeholder when no code is written. And can be used for future code."
      ]
    },
    {
      "cell_type": "code",
      "metadata": {
        "colab": {
          "base_uri": "https://localhost:8080/"
        },
        "id": "-5pWj8JeK0_B",
        "outputId": "b0912673-0a0e-41c3-d2ef-eaaf8cfeab8a"
      },
      "source": [
        "#example\r\n",
        "for i in range(1,20, 1):\r\n",
        "    if (i == 5):\r\n",
        "        pass\r\n",
        "    else:\r\n",
        "        print (i)"
      ],
      "execution_count": 1,
      "outputs": [
        {
          "output_type": "stream",
          "text": [
            "1\n",
            "2\n",
            "3\n",
            "4\n",
            "6\n",
            "7\n",
            "8\n",
            "9\n",
            "10\n",
            "11\n",
            "12\n",
            "13\n",
            "14\n",
            "15\n",
            "16\n",
            "17\n",
            "18\n",
            "19\n"
          ],
          "name": "stdout"
        }
      ]
    }
  ]
}