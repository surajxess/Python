{
  "nbformat": 4,
  "nbformat_minor": 0,
  "metadata": {
    "colab": {
      "name": "Task-10.ipynb",
      "provenance": [],
      "authorship_tag": "ABX9TyNp9YNgpyCy5Y966TLP3qDn",
      "include_colab_link": true
    },
    "kernelspec": {
      "name": "python3",
      "display_name": "Python 3"
    }
  },
  "cells": [
    {
      "cell_type": "markdown",
      "metadata": {
        "id": "view-in-github",
        "colab_type": "text"
      },
      "source": [
        "<a href=\"https://colab.research.google.com/github/surajxess/Python/blob/main/Task_10.ipynb\" target=\"_parent\"><img src=\"https://colab.research.google.com/assets/colab-badge.svg\" alt=\"Open In Colab\"/></a>"
      ]
    },
    {
      "cell_type": "code",
      "metadata": {
        "colab": {
          "base_uri": "https://localhost:8080/"
        },
        "id": "tEwnM5L2b4IX",
        "outputId": "8fe79e39-feb7-42b6-a49c-c84a8586e230"
      },
      "source": [
        "i = 10\r\n",
        "while (i >= 1):\r\n",
        "  print (i)\r\n",
        "  i -= 1"
      ],
      "execution_count": 2,
      "outputs": [
        {
          "output_type": "stream",
          "text": [
            "10\n",
            "9\n",
            "8\n",
            "7\n",
            "6\n",
            "5\n",
            "4\n",
            "3\n",
            "2\n",
            "1\n"
          ],
          "name": "stdout"
        }
      ]
    },
    {
      "cell_type": "code",
      "metadata": {
        "colab": {
          "base_uri": "https://localhost:8080/"
        },
        "id": "9ADEgJtGcljn",
        "outputId": "94d467e3-49b1-4960-cf9b-5e590a2205f6"
      },
      "source": [
        "str = \"Suraj\"\r\n",
        "j=0\r\n",
        "for i in str:\r\n",
        "  print (i)"
      ],
      "execution_count": 8,
      "outputs": [
        {
          "output_type": "stream",
          "text": [
            "S\n",
            "u\n",
            "r\n",
            "a\n",
            "j\n"
          ],
          "name": "stdout"
        }
      ]
    },
    {
      "cell_type": "code",
      "metadata": {
        "colab": {
          "base_uri": "https://localhost:8080/"
        },
        "id": "yBWPxCoKdPCy",
        "outputId": "056491e8-0bab-41b4-a88a-ae6a4198c6c5"
      },
      "source": [
        "tup1 = (1,2.2,5, True, \"Hello\")\r\n",
        "for i in tup1:\r\n",
        "  print (i)"
      ],
      "execution_count": 9,
      "outputs": [
        {
          "output_type": "stream",
          "text": [
            "1\n",
            "2.2\n",
            "5\n",
            "True\n",
            "Hello\n"
          ],
          "name": "stdout"
        }
      ]
    },
    {
      "cell_type": "code",
      "metadata": {
        "colab": {
          "base_uri": "https://localhost:8080/"
        },
        "id": "NtFPgd05eEYo",
        "outputId": "f9b76c48-a074-42a0-a9e1-e42ebc35b787"
      },
      "source": [
        "set1 = {1, 2.3, True, \"HelloWorld\", 's'}\r\n",
        "for i in set1:\r\n",
        "  print (i)"
      ],
      "execution_count": 10,
      "outputs": [
        {
          "output_type": "stream",
          "text": [
            "1\n",
            "2.3\n",
            "HelloWorld\n",
            "s\n"
          ],
          "name": "stdout"
        }
      ]
    },
    {
      "cell_type": "code",
      "metadata": {
        "colab": {
          "base_uri": "https://localhost:8080/"
        },
        "id": "6TFm4S8Zev7R",
        "outputId": "263f4aaf-2b50-496d-9d1b-44002c321048"
      },
      "source": [
        "dict1 = {\"name\": \"suraj\", \r\n",
        "         \"batch\": \"december\", \r\n",
        "         \"course\": \"data science\"}\r\n",
        "for i in dict1:\r\n",
        "  print(dict1[i])"
      ],
      "execution_count": 22,
      "outputs": [
        {
          "output_type": "stream",
          "text": [
            "suraj\n",
            "december\n",
            "data science\n"
          ],
          "name": "stdout"
        }
      ]
    },
    {
      "cell_type": "code",
      "metadata": {
        "id": "zEN4qHlYfEfv"
      },
      "source": [
        ""
      ],
      "execution_count": null,
      "outputs": []
    }
  ]
}