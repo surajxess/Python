{
  "nbformat": 4,
  "nbformat_minor": 0,
  "metadata": {
    "colab": {
      "name": "Task-10.1.ipynb",
      "provenance": [],
      "collapsed_sections": [],
      "authorship_tag": "ABX9TyOftiBZv7i8TRCviH6KoTCH",
      "include_colab_link": true
    },
    "kernelspec": {
      "name": "python3",
      "display_name": "Python 3"
    }
  },
  "cells": [
    {
      "cell_type": "markdown",
      "metadata": {
        "id": "view-in-github",
        "colab_type": "text"
      },
      "source": [
        "<a href=\"https://colab.research.google.com/github/surajxess/Python/blob/main/Task_10_1.ipynb\" target=\"_parent\"><img src=\"https://colab.research.google.com/assets/colab-badge.svg\" alt=\"Open In Colab\"/></a>"
      ]
    },
    {
      "cell_type": "code",
      "metadata": {
        "colab": {
          "base_uri": "https://localhost:8080/"
        },
        "id": "bbFmxz-EI610",
        "outputId": "0ecbf0a3-327b-4150-ee83-52a7bda1e1ff"
      },
      "source": [
        "name = 'Suraj'\r\n",
        "for item in name:\r\n",
        "    if item[0] == 'S':\r\n",
        "        continue\r\n",
        "    print (item) "
      ],
      "execution_count": 2,
      "outputs": [
        {
          "output_type": "stream",
          "text": [
            "u\n",
            "r\n",
            "a\n",
            "j\n"
          ],
          "name": "stdout"
        }
      ]
    },
    {
      "cell_type": "code",
      "metadata": {
        "id": "-2X1QZQcJkUh"
      },
      "source": [
        "continue is useful if we want to neglect some numbers from a range"
      ],
      "execution_count": null,
      "outputs": []
    },
    {
      "cell_type": "code",
      "metadata": {
        "colab": {
          "base_uri": "https://localhost:8080/"
        },
        "id": "rKQRKFDfJouS",
        "outputId": "143745dc-074e-4094-d446-fd86c5c6b60d"
      },
      "source": [
        "for item in range(1,10,1):\r\n",
        "    if (item == 1) or (item == 8):\r\n",
        "        continue\r\n",
        "    print (item)"
      ],
      "execution_count": 3,
      "outputs": [
        {
          "output_type": "stream",
          "text": [
            "2\n",
            "3\n",
            "4\n",
            "5\n",
            "6\n",
            "7\n",
            "9\n"
          ],
          "name": "stdout"
        }
      ]
    }
  ]
}