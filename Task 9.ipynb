{
 "cells": [
  {
   "cell_type": "code",
   "execution_count": 30,
   "metadata": {},
   "outputs": [
    {
     "name": "stdout",
     "output_type": "stream",
     "text": [
      "Select operation \n",
      "1. Addition\n",
      "2. Subtraction\n",
      "3. Multiplication\n",
      "4. Division\n",
      "Enter your choice: 7\n",
      "invalid choice. Choose numbers from 1 to 4.\n"
     ]
    }
   ],
   "source": [
    "print(\"Select operation \")\n",
    "print(\"1. Addition\")\n",
    "print(\"2. Subtraction\")\n",
    "print(\"3. Multiplication\")\n",
    "print(\"4. Division\")\n",
    "ch = input(\"Enter your choice: \")\n",
    "if (ch == '1'):\n",
    "    num1 = input(\"enter number 1: \")\n",
    "    num2 = input(\"enter number 2: \")\n",
    "    print (\"Result is: \" + str(int(num1) + int(num2)))\n",
    "elif (ch == '2'):\n",
    "    num1 = input(\"enter number 1: \")\n",
    "    num2 = input(\"enter number 2: \")\n",
    "    print (\"Result is: \" + str(int(num1) - int(num2)))\n",
    "elif (ch == '3'):\n",
    "    num1 = input(\"enter number 1: \")\n",
    "    num2 = input(\"enter number 2: \")\n",
    "    print (\"Result is: \" + str(int(num1) * int(num2)))\n",
    "elif (ch == '4'):\n",
    "    num1 = input(\"enter number 1: \")\n",
    "    num2 = input(\"enter number 2: \")\n",
    "    print (\"Result is: \" + str(int(num1) / int(num2)))\n",
    "else:\n",
    "    print(\"invalid choice. Choose numbers from 1 to 4.\")\n",
    "    "
   ]
  },
  {
   "cell_type": "code",
   "execution_count": null,
   "metadata": {},
   "outputs": [],
   "source": []
  },
  {
   "cell_type": "code",
   "execution_count": null,
   "metadata": {},
   "outputs": [],
   "source": []
  }
 ],
 "metadata": {
  "kernelspec": {
   "display_name": "Python 3",
   "language": "python",
   "name": "python3"
  },
  "language_info": {
   "codemirror_mode": {
    "name": "ipython",
    "version": 3
   },
   "file_extension": ".py",
   "mimetype": "text/x-python",
   "name": "python",
   "nbconvert_exporter": "python",
   "pygments_lexer": "ipython3",
   "version": "3.8.5"
  }
 },
 "nbformat": 4,
 "nbformat_minor": 4
}
